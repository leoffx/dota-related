{
  "nbformat": 4,
  "nbformat_minor": 0,
  "metadata": {
    "colab": {
      "name": "treasure-drop-chance-calculator",
      "provenance": [],
      "collapsed_sections": []
    },
    "kernelspec": {
      "name": "python3",
      "display_name": "Python 3"
    }
  },
  "cells": [
    {
      "cell_type": "code",
      "metadata": {
        "id": "IX59rOoKXOVQ",
        "colab_type": "code",
        "colab": {}
      },
      "source": [
        "import numpy as np\n",
        "import matplotlib.pyplot as plt"
      ],
      "execution_count": 0,
      "outputs": []
    },
    {
      "cell_type": "code",
      "metadata": {
        "id": "4cotdqNeXSlN",
        "colab_type": "code",
        "colab": {}
      },
      "source": [
        "x=0\n",
        "y = np.random.rand(999999, 12)"
      ],
      "execution_count": 0,
      "outputs": []
    },
    {
      "cell_type": "code",
      "metadata": {
        "id": "chNAMJmBXTT8",
        "colab_type": "code",
        "colab": {
          "base_uri": "https://localhost:8080/",
          "height": 34
        },
        "outputId": "a8e89c7a-7ba1-4dbe-8590-7ea16b53c493"
      },
      "source": [
        "chance = [1/2000, 1/583, 1/187, 1/88, 1/51, 1/33, 1/23, 1/17, 1/13.1, 1/10.4, 1/8.5, 1/7.1, 1/6, 1/5.2, 1/4.5, 1/4, 1/3.6, 1/3.2, 1/2.9, 1/2.6, 1/2.4, 1/2.2, 1/2.1, 1/1.9, 1/1.8, 1/1.7, 1/1.6, 1/1.5] #, 1/1.5, 1/1.4]\n",
        "len(chance)"
      ],
      "execution_count": 3,
      "outputs": [
        {
          "output_type": "execute_result",
          "data": {
            "text/plain": [
              "28"
            ]
          },
          "metadata": {
            "tags": []
          },
          "execution_count": 3
        }
      ]
    },
    {
      "cell_type": "code",
      "metadata": {
        "id": "JLf-vAG5XUSU",
        "colab_type": "code",
        "colab": {}
      },
      "source": [
        "how_many_lvl = {}\n",
        "frequency = 0\n",
        "for i in range(999999):\n",
        "  x=0\n",
        "  frequency = 0\n",
        "  for j in range(y.shape[1]):    \n",
        "    if y[i,j] < chance[x]:\n",
        "      x=0\n",
        "      frequency += 1\n",
        "    x+=1\n",
        "  if frequency in how_many_lvl:\n",
        "    how_many_lvl[frequency] += 1/9999\n",
        "  else:\n",
        "    how_many_lvl[frequency] = 1/9999"
      ],
      "execution_count": 0,
      "outputs": []
    },
    {
      "cell_type": "code",
      "metadata": {
        "id": "789llWdgXVWk",
        "colab_type": "code",
        "colab": {}
      },
      "source": [
        "count = np.unique(np.sum(y < chance[:12], axis=1), return_counts=True)"
      ],
      "execution_count": 0,
      "outputs": []
    },
    {
      "cell_type": "code",
      "metadata": {
        "id": "YqQ7sTiKXWj8",
        "colab_type": "code",
        "colab": {}
      },
      "source": [
        "num = list(how_many_lvl.keys())\n",
        "\n",
        "freq = list(how_many_lvl.values())"
      ],
      "execution_count": 0,
      "outputs": []
    },
    {
      "cell_type": "code",
      "metadata": {
        "id": "e-iDCA8AXXps",
        "colab_type": "code",
        "colab": {
          "base_uri": "https://localhost:8080/",
          "height": 85
        },
        "outputId": "964fc936-7ccb-434c-9144-782cc20da3b2"
      },
      "source": [
        "freq"
      ],
      "execution_count": 7,
      "outputs": [
        {
          "output_type": "execute_result",
          "data": {
            "text/plain": [
              "[45.131713171006076,\n",
              " 53.08580858045214,\n",
              " 1.776777677767206,\n",
              " 0.015601560156015642]"
            ]
          },
          "metadata": {
            "tags": []
          },
          "execution_count": 7
        }
      ]
    },
    {
      "cell_type": "code",
      "metadata": {
        "id": "tEWHGxYwXYxk",
        "colab_type": "code",
        "colab": {}
      },
      "source": [
        ""
      ],
      "execution_count": 0,
      "outputs": []
    }
  ]
}