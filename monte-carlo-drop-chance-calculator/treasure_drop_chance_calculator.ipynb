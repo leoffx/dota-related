{
  "nbformat": 4,
  "nbformat_minor": 0,
  "metadata": {
    "colab": {
      "name": "treasure-drop-chance-calculator",
      "provenance": [],
      "collapsed_sections": []
    },
    "kernelspec": {
      "name": "python3",
      "display_name": "Python 3"
    }
  },
  "cells": [
    {
      "cell_type": "code",
      "metadata": {
        "id": "IX59rOoKXOVQ",
        "colab_type": "code",
        "colab": {}
      },
      "source": [
        "import numpy as np\n",
        "import matplotlib.pyplot as plt"
      ],
      "execution_count": 0,
      "outputs": []
    },
    {
      "cell_type": "code",
      "metadata": {
        "id": "4cotdqNeXSlN",
        "colab_type": "code",
        "colab": {}
      },
      "source": [
        "chestNum = 18\n",
        "y = np.random.rand(999999, chestNum)"
      ],
      "execution_count": 0,
      "outputs": []
    },
    {
      "cell_type": "code",
      "metadata": {
        "id": "chNAMJmBXTT8",
        "colab_type": "code",
        "outputId": "ea24c998-d9f2-405c-e272-349edd22b7d9",
        "colab": {
          "base_uri": "https://localhost:8080/",
          "height": 34
        }
      },
      "source": [
        "chance = [1/2000, 1/583, 1/187, 1/88, 1/51, 1/33, 1/23, 1/17, 1/13.1, 1/10.4, 1/8.5, 1/7.1, 1/6, 1/5.2, 1/4.5, 1/4, 1/3.6, 1/3.2, 1/2.9, 1/2.6, 1/2.4, 1/2.2, 1/2.1, 1/1.9, 1/1.8, 1/1.7, 1/1.6, 1/1.5] #, 1/1.5, 1/1.4]\n",
        "len(chance)"
      ],
      "execution_count": 3,
      "outputs": [
        {
          "output_type": "execute_result",
          "data": {
            "text/plain": [
              "28"
            ]
          },
          "metadata": {
            "tags": []
          },
          "execution_count": 3
        }
      ]
    },
    {
      "cell_type": "code",
      "metadata": {
        "id": "JLf-vAG5XUSU",
        "colab_type": "code",
        "colab": {}
      },
      "source": [
        "how_many_lvl = {}\n",
        "frequency = 0\n",
        "x=0\n",
        "for i in range(999999):\n",
        "  x=0\n",
        "  frequency = 0\n",
        "  for j in range(y.shape[1]):    \n",
        "    if y[i,j] < chance[x]:\n",
        "      x=0\n",
        "      frequency += 1\n",
        "    x+=1\n",
        "  if frequency in how_many_lvl:\n",
        "    how_many_lvl[frequency] += 1/9999\n",
        "  else:\n",
        "    how_many_lvl[frequency] = 1/9999"
      ],
      "execution_count": 0,
      "outputs": []
    },
    {
      "cell_type": "code",
      "metadata": {
        "id": "789llWdgXVWk",
        "colab_type": "code",
        "colab": {}
      },
      "source": [
        "count = np.unique(np.sum(y < chance[:chestNum], axis=1), return_counts=True)"
      ],
      "execution_count": 0,
      "outputs": []
    },
    {
      "cell_type": "code",
      "metadata": {
        "id": "YqQ7sTiKXWj8",
        "colab_type": "code",
        "colab": {}
      },
      "source": [
        "num = list(how_many_lvl.keys())\n",
        "\n",
        "freq = list(how_many_lvl.values())"
      ],
      "execution_count": 0,
      "outputs": []
    },
    {
      "cell_type": "code",
      "metadata": {
        "id": "e-iDCA8AXXps",
        "colab_type": "code",
        "outputId": "8b39b147-83f6-455f-9ad4-38bce55fec96",
        "colab": {
          "base_uri": "https://localhost:8080/",
          "height": 136
        }
      },
      "source": [
        "num, freq"
      ],
      "execution_count": 7,
      "outputs": [
        {
          "output_type": "execute_result",
          "data": {
            "text/plain": [
              "([1, 2, 0, 3, 4, 5],\n",
              " [74.42914291437181,\n",
              "  14.669066906719392,\n",
              "  10.392139213925173,\n",
              "  0.5136513651364499,\n",
              "  0.005700570057005705,\n",
              "  0.00020002000200020003])"
            ]
          },
          "metadata": {
            "tags": []
          },
          "execution_count": 7
        }
      ]
    },
    {
      "cell_type": "code",
      "metadata": {
        "id": "tEWHGxYwXYxk",
        "colab_type": "code",
        "colab": {}
      },
      "source": [
        "def autolabel(rects, xpos='center'):\n",
        "    \"\"\"\n",
        "    Attach a text label above each bar in *rects*, displaying its height.\n",
        "\n",
        "    *xpos* indicates which side to place the text w.r.t. the center of\n",
        "    the bar. It can be one of the following {'center', 'right', 'left'}.\n",
        "    \"\"\"\n",
        "\n",
        "    ha = {'center': 'center', 'right': 'left', 'left': 'right'}\n",
        "    offset = {'center': 0, 'right': 1, 'left': -1}\n",
        "\n",
        "    for rect in rects:\n",
        "        height = rect.get_height()\n",
        "        ax.annotate('{}'.format(height),\n",
        "                    xy=(rect.get_x() + rect.get_width() / 2, height),\n",
        "                    xytext=(offset[xpos]*3, 3),  # use 3 points offset\n",
        "                    textcoords=\"offset points\",  # in both directions\n",
        "                    ha=ha[xpos], va='bottom')"
      ],
      "execution_count": 0,
      "outputs": []
    },
    {
      "cell_type": "code",
      "metadata": {
        "id": "i2cOz0BoYF91",
        "colab_type": "code",
        "colab": {
          "base_uri": "https://localhost:8080/",
          "height": 595
        },
        "outputId": "4d5e2e3c-ade4-4ac5-df7e-26f8affdd71f"
      },
      "source": [
        "fig, ax = plt.subplots(figsize=(20, 10))\n",
        "\n",
        "from matplotlib.ticker import MaxNLocator\n",
        "ax.xaxis.set_major_locator(MaxNLocator(integer=True))\n",
        "\n",
        "\n",
        "rects1 = plt.bar(num, np.round(freq,2))\n",
        "autolabel(rects1, \"left\")\n",
        "\n",
        "\n",
        "plt.savefig('plot')\n",
        "plt.show()"
      ],
      "execution_count": 9,
      "outputs": [
        {
          "output_type": "display_data",
          "data": {
            "image/png": "[encoded data removed]",
            "text/plain": [
              "<Figure size 1440x720 with 1 Axes>"
            ]
          },
          "metadata": {
            "tags": []
          }
        }
      ]
    },
    {
      "cell_type": "code",
      "metadata": {
        "id": "kAjF0DH5YK79",
        "colab_type": "code",
        "colab": {}
      },
      "source": [
        ""
      ],
      "execution_count": 0,
      "outputs": []
    }
  ]
}