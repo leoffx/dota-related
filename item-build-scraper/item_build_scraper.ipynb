{
  "nbformat": 4,
  "nbformat_minor": 0,
  "metadata": {
    "colab": {
      "name": "item-build-scraper",
      "provenance": [],
      "collapsed_sections": []
    },
    "kernelspec": {
      "name": "python3",
      "display_name": "Python 3"
    }
  },
  "cells": [
    {
      "cell_type": "code",
      "metadata": {
        "id": "ZA1RWmZOdja6",
        "colab_type": "code",
        "colab": {}
      },
      "source": [
        "import requests\n",
        "import time"
      ],
      "execution_count": 0,
      "outputs": []
    },
    {
      "cell_type": "code",
      "metadata": {
        "id": "NOoPZdkwduno",
        "colab_type": "code",
        "colab": {}
      },
      "source": [
        "def get_player_list(ranking):\n",
        "  player_list = []\n",
        "  for i in range(10): #gets top 10 players\n",
        "    player_list.append(ranking['rankings'][i]['account_id'])\n",
        "\n",
        "  return player_list"
      ],
      "execution_count": 0,
      "outputs": []
    },
    {
      "cell_type": "code",
      "metadata": {
        "id": "hnfDSqdCdvSu",
        "colab_type": "code",
        "colab": {}
      },
      "source": [
        "def get_match_list(player_list):\n",
        "  match_list = []\n",
        "  for player in player_list:\n",
        "    matches = requests.get('https://api.opendota.com/api/players/'+ str(player) + '/matches?hero_id=5').json()\n",
        "    for match in matches[0:20]: #get 20 latest matches\n",
        "      match_list.append(match['match_id'])\n",
        "\n",
        "  return match_list"
      ],
      "execution_count": 0,
      "outputs": []
    },
    {
      "cell_type": "code",
      "metadata": {
        "id": "C7i45Yl4dwGm",
        "colab_type": "code",
        "colab": {}
      },
      "source": [
        "def get_match_data(match_id):\n",
        "  return requests.get('https://api.opendota.com/api/matches/'+str(match_id)).json()"
      ],
      "execution_count": 0,
      "outputs": []
    },
    {
      "cell_type": "code",
      "metadata": {
        "id": "HNmAWWGzdxDW",
        "colab_type": "code",
        "colab": {}
      },
      "source": [
        "def get_purchases(purchases, match_count): #updates item_count dictionary\n",
        "  try:\n",
        "    for purchase in purchases:\n",
        "      if purchase['time'] > 0: #check if the item was bought after the game start\n",
        "        break\n",
        "      else:\n",
        "        if purchase['key'] in item_count: #check if item is in the dictionary, if so, increment its quantity by 1, if not, create entry\n",
        "          item_count[purchase['key']] += 1          \n",
        "        else: \n",
        "          item_count[purchase['key']] = 1\n",
        "    match_count += 1\n",
        "  except:\n",
        "    print('not parsed')\n",
        "    pass\n",
        "    \n",
        "  return match_count"
      ],
      "execution_count": 0,
      "outputs": []
    },
    {
      "cell_type": "code",
      "metadata": {
        "id": "q6yWrRLddx-e",
        "colab_type": "code",
        "colab": {}
      },
      "source": [
        "hero_id = 119\n",
        "ranking = requests.get('https://api.opendota.com/api/rankings?hero_id='+str(hero_id)).json()"
      ],
      "execution_count": 0,
      "outputs": []
    },
    {
      "cell_type": "code",
      "metadata": {
        "id": "063bUGOzd0_v",
        "colab_type": "code",
        "colab": {}
      },
      "source": [
        "player_list = get_player_list(ranking)\n",
        "match_list = get_match_list(player_list)\n",
        "\n",
        "item_count = {}\n",
        "match_count = 0\n",
        "for match_id in match_list:\n",
        "  individual_match = get_match_data(match_id)\n",
        "  for i in range(10): #check all 10 players in the game for the one with the chosen hero\n",
        "    if individual_match['players'][i]['hero_id'] == 5:\n",
        "      match_count = get_purchases(individual_match['players'][i]['purchase_log'], match_count)    \n",
        "      \"\"\"if 'courier' in item_count:\n",
        "        print(individual_match)\n",
        "        break \"\"\"   \n",
        "      break\n",
        "    time.sleep(1)\n",
        "\n",
        "for item in item_count: #normalize item count\n",
        "  item_count[item] = round(item_count[item]/match_count,2)"
      ],
      "execution_count": 0,
      "outputs": []
    },
    {
      "cell_type": "code",
      "metadata": {
        "id": "Ef7aedYOd1h-",
        "colab_type": "code",
        "colab": {
          "base_uri": "https://localhost:8080/",
          "height": 323
        },
        "outputId": "4d1e396f-6140-406a-d836-ad1917212de8"
      },
      "source": [
        "item_count, match_count"
      ],
      "execution_count": 8,
      "outputs": [
        {
          "output_type": "execute_result",
          "data": {
            "text/plain": [
              "({'branches': 0.27,\n",
              "  'circlet': 0.01,\n",
              "  'clarity': 0.58,\n",
              "  'courier': 0.01,\n",
              "  'enchanted_mango': 1.44,\n",
              "  'faerie_fire': 0.11,\n",
              "  'flask': 0.25,\n",
              "  'mantle': 0.03,\n",
              "  'ring_of_basilius': 0.02,\n",
              "  'smoke_of_deceit': 0.03,\n",
              "  'sobi_mask': 0.01,\n",
              "  'tango': 1.01,\n",
              "  'tango_single': 0.01,\n",
              "  'tpscroll': 0.4,\n",
              "  'ward_observer': 0.38,\n",
              "  'ward_sentry': 0.17,\n",
              "  'wind_lace': 0.12},\n",
              " 149)"
            ]
          },
          "metadata": {
            "tags": []
          },
          "execution_count": 8
        }
      ]
    },
    {
      "cell_type": "code",
      "metadata": {
        "id": "Yht9AAgRd_x2",
        "colab_type": "code",
        "colab": {}
      },
      "source": [
        ""
      ],
      "execution_count": 0,
      "outputs": []
    }
  ]
}